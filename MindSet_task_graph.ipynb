{
 "cells": [
  {
   "cell_type": "markdown",
   "id": "3aa7a719",
   "metadata": {},
   "source": [
    "# Intership Mindset Case 7 Graph Database #"
   ]
  },
  {
   "cell_type": "code",
   "execution_count": 1,
   "id": "02b1d94e",
   "metadata": {},
   "outputs": [],
   "source": [
    "%matplotlib inline"
   ]
  },
  {
   "cell_type": "code",
   "execution_count": 2,
   "id": "3065513c",
   "metadata": {},
   "outputs": [],
   "source": [
    "import numpy as np\n",
    "import pandas as pd\n",
    "import matplotlib.pyplot as plt\n",
    "import networkx as nx\n",
    "from networkx.algorithms.community import greedy_modularity_communities\n",
    "from ipycytoscape import CytoscapeWidget\n",
    "from pyvis.network import Network\n",
    "from neo4jupyter import *\n",
    "from IPython.display import display\n",
    "from flask import Flask, jsonify, request\n",
    "from neo4j import GraphDatabase, basic_auth\n",
    "from py2neo import Graph, Node, Relationship\n",
    "from yfiles_jupyter_graphs import *"
   ]
  },
  {
   "cell_type": "markdown",
   "id": "ab37d697-a860-471d-9513-232956c253b8",
   "metadata": {},
   "source": [
    "## Sections ##"
   ]
  },
  {
   "cell_type": "markdown",
   "id": "988bc057-4b4e-487e-a3d4-79b40cdcd0a7",
   "metadata": {},
   "source": [
    "1. Loading dataset.\n",
    "\n",
    "2. Determine the shape of dataset.\n",
    "\n",
    "3. Dataset with three columns.\n",
    "\n",
    "4. Find number of missing values in the dataset.\n",
    "\n",
    "5. Create Graph Database and import file.\n",
    "\n",
    "5.1 Save file with three columns.\n",
    "\n",
    "5.2  In neo4j browser run Cypher request to see event count per person.\n",
    "\n",
    "6. yFiles graphs for Jupyter and Louvain algorithm.\n",
    "\n",
    "6.1. Creating a database connection driver.\n",
    "\n",
    "6.2. Execute Cypher query to load data from CSV and create nodes and relationships.\n",
    "\n",
    "6.3. Louvain algorithm.\n",
    "\n",
    "6.3.1. Create graph.\n",
    "\n",
    "6.3.2. Load the data from the CSV file.\n",
    "\n",
    "6.3.3. Adding nodes and edges.\n",
    "\n",
    "6.3.4. To apply the Louvain algorithm.\n",
    "\n",
    "6.3.5. Graph visualization.\n",
    "\n",
    "7. Code uses the Cypher query language to match a Person node with the given name and all the events they participated in. It returns the subgraph in GraphML or JSON format, depending on the request.\\\n"
   ]
  },
  {
   "cell_type": "markdown",
   "id": "ff4cea09",
   "metadata": {},
   "source": [
    "## 1. Loading dataset. ##"
   ]
  },
  {
   "cell_type": "code",
   "execution_count": 3,
   "id": "e82cbd4f",
   "metadata": {
    "scrolled": true
   },
   "outputs": [
    {
     "data": {
      "text/html": [
       "<div>\n",
       "<style scoped>\n",
       "    .dataframe tbody tr th:only-of-type {\n",
       "        vertical-align: middle;\n",
       "    }\n",
       "\n",
       "    .dataframe tbody tr th {\n",
       "        vertical-align: top;\n",
       "    }\n",
       "\n",
       "    .dataframe thead th {\n",
       "        text-align: right;\n",
       "    }\n",
       "</style>\n",
       "<table border=\"1\" class=\"dataframe\">\n",
       "  <thead>\n",
       "    <tr style=\"text-align: right;\">\n",
       "      <th></th>\n",
       "      <th>id события;ФИО участника события 1;ФИО участника события 2</th>\n",
       "    </tr>\n",
       "  </thead>\n",
       "  <tbody>\n",
       "    <tr>\n",
       "      <th>0</th>\n",
       "      <td>189;Галчевская Карина Владимировна;Белоновская...</td>\n",
       "    </tr>\n",
       "    <tr>\n",
       "      <th>1</th>\n",
       "      <td>206;Офицеров Олег Романович;Сапожник Борис Вал...</td>\n",
       "    </tr>\n",
       "    <tr>\n",
       "      <th>2</th>\n",
       "      <td>445;Жандарова Лариса Германовна;Чемодуров Дами...</td>\n",
       "    </tr>\n",
       "    <tr>\n",
       "      <th>3</th>\n",
       "      <td>503;Масимова Яна Дамировна;Мингажетдинов Рамил...</td>\n",
       "    </tr>\n",
       "    <tr>\n",
       "      <th>4</th>\n",
       "      <td>571;Мухтарова Алена Яковлевна;Щербатенко Ольга...</td>\n",
       "    </tr>\n",
       "  </tbody>\n",
       "</table>\n",
       "</div>"
      ],
      "text/plain": [
       "  id события;ФИО участника события 1;ФИО участника события 2\n",
       "0  189;Галчевская Карина Владимировна;Белоновская...        \n",
       "1  206;Офицеров Олег Романович;Сапожник Борис Вал...        \n",
       "2  445;Жандарова Лариса Германовна;Чемодуров Дами...        \n",
       "3  503;Масимова Яна Дамировна;Мингажетдинов Рамил...        \n",
       "4  571;Мухтарова Алена Яковлевна;Щербатенко Ольга...        "
      ]
     },
     "execution_count": 3,
     "metadata": {},
     "output_type": "execute_result"
    }
   ],
   "source": [
    "df = pd.read_csv('mindset_data_test.csv')\n",
    "df.head()"
   ]
  },
  {
   "cell_type": "markdown",
   "id": "63ed7acc",
   "metadata": {},
   "source": [
    "## 2. Determine the shape of dataset. ##"
   ]
  },
  {
   "cell_type": "code",
   "execution_count": 4,
   "id": "2fc71d49",
   "metadata": {},
   "outputs": [
    {
     "name": "stdout",
     "output_type": "stream",
     "text": [
      "CSV file has 1 columns and 5000 rows\n"
     ]
    }
   ],
   "source": [
    "num_rows, num_cols = df.shape\n",
    "\n",
    "print(f'CSV file has {num_cols} columns and {num_rows} rows')"
   ]
  },
  {
   "cell_type": "markdown",
   "id": "e1b2bbcd",
   "metadata": {},
   "source": [
    "  ## 3. Dataset with three columns. ##"
   ]
  },
  {
   "cell_type": "code",
   "execution_count": 5,
   "id": "9aeaa921",
   "metadata": {},
   "outputs": [
    {
     "name": "stdout",
     "output_type": "stream",
     "text": [
      "  id события         ФИО участника события 1          ФИО участника события 2\n",
      "0        189  Галчевская Карина Владимировна  Белоновская Анастасия Семеновна\n",
      "1        206         Офицеров Олег Романович        Сапожник Борис Валерьевич\n",
      "2        445     Жандарова Лариса Германовна       Чемодуров Дамир Русланович\n",
      "3        503          Масимова Яна Дамировна   Мингажетдинов Рамиль Семенович\n",
      "4        571       Мухтарова Алена Яковлевна      Щербатенко Ольга Робертовна\n"
     ]
    }
   ],
   "source": [
    "df = pd.read_csv('mindset_data_test.csv')\n",
    "new_cols = df['id события;ФИО участника события 1;ФИО участника события 2'].str.split(';', expand=True)\n",
    "new_cols.columns = ['id события', 'ФИО участника события 1', 'ФИО участника события 2']\n",
    "df = pd.concat([df, new_cols], axis=1)\n",
    "df = df.drop('id события;ФИО участника события 1;ФИО участника события 2', axis=1)\n",
    "print(df.head()) \n"
   ]
  },
  {
   "cell_type": "markdown",
   "id": "31824453",
   "metadata": {},
   "source": [
    "## 4. Find number of missing values in the dataset. ##"
   ]
  },
  {
   "cell_type": "code",
   "execution_count": 6,
   "id": "2b7b4ff5",
   "metadata": {},
   "outputs": [
    {
     "data": {
      "text/plain": [
       "id события                 0\n",
       "ФИО участника события 1    0\n",
       "ФИО участника события 2    0\n",
       "dtype: int64"
      ]
     },
     "execution_count": 6,
     "metadata": {},
     "output_type": "execute_result"
    }
   ],
   "source": [
    "df.isnull().sum()"
   ]
  },
  {
   "cell_type": "code",
   "execution_count": 7,
   "id": "bcfd37d4",
   "metadata": {},
   "outputs": [
    {
     "data": {
      "text/html": [
       "<div>\n",
       "<style scoped>\n",
       "    .dataframe tbody tr th:only-of-type {\n",
       "        vertical-align: middle;\n",
       "    }\n",
       "\n",
       "    .dataframe tbody tr th {\n",
       "        vertical-align: top;\n",
       "    }\n",
       "\n",
       "    .dataframe thead th {\n",
       "        text-align: right;\n",
       "    }\n",
       "</style>\n",
       "<table border=\"1\" class=\"dataframe\">\n",
       "  <thead>\n",
       "    <tr style=\"text-align: right;\">\n",
       "      <th></th>\n",
       "      <th>id события</th>\n",
       "      <th>ФИО участника события 1</th>\n",
       "      <th>ФИО участника события 2</th>\n",
       "    </tr>\n",
       "  </thead>\n",
       "  <tbody>\n",
       "    <tr>\n",
       "      <th>0</th>\n",
       "      <td>189</td>\n",
       "      <td>Галчевская Карина Владимировна</td>\n",
       "      <td>Белоновская Анастасия Семеновна</td>\n",
       "    </tr>\n",
       "    <tr>\n",
       "      <th>1</th>\n",
       "      <td>206</td>\n",
       "      <td>Офицеров Олег Романович</td>\n",
       "      <td>Сапожник Борис Валерьевич</td>\n",
       "    </tr>\n",
       "    <tr>\n",
       "      <th>2</th>\n",
       "      <td>445</td>\n",
       "      <td>Жандарова Лариса Германовна</td>\n",
       "      <td>Чемодуров Дамир Русланович</td>\n",
       "    </tr>\n",
       "    <tr>\n",
       "      <th>3</th>\n",
       "      <td>503</td>\n",
       "      <td>Масимова Яна Дамировна</td>\n",
       "      <td>Мингажетдинов Рамиль Семенович</td>\n",
       "    </tr>\n",
       "    <tr>\n",
       "      <th>4</th>\n",
       "      <td>571</td>\n",
       "      <td>Мухтарова Алена Яковлевна</td>\n",
       "      <td>Щербатенко Ольга Робертовна</td>\n",
       "    </tr>\n",
       "    <tr>\n",
       "      <th>...</th>\n",
       "      <td>...</td>\n",
       "      <td>...</td>\n",
       "      <td>...</td>\n",
       "    </tr>\n",
       "    <tr>\n",
       "      <th>4995</th>\n",
       "      <td>999333</td>\n",
       "      <td>Осташов Владимир Данилович</td>\n",
       "      <td>Чалов Илья Владимирович</td>\n",
       "    </tr>\n",
       "    <tr>\n",
       "      <th>4996</th>\n",
       "      <td>999360</td>\n",
       "      <td>Гандыбина Любовь Александровна</td>\n",
       "      <td>Мерлин Илья Юрьевич</td>\n",
       "    </tr>\n",
       "    <tr>\n",
       "      <th>4997</th>\n",
       "      <td>999403</td>\n",
       "      <td>Востоков Виктор Ильдарович</td>\n",
       "      <td>Аликас Никита Андреевич</td>\n",
       "    </tr>\n",
       "    <tr>\n",
       "      <th>4998</th>\n",
       "      <td>999405</td>\n",
       "      <td>Огарева Людмила Ильдаровна</td>\n",
       "      <td>Нагайцева Алина Степановна</td>\n",
       "    </tr>\n",
       "    <tr>\n",
       "      <th>4999</th>\n",
       "      <td>999878</td>\n",
       "      <td>Ряполовский Георгий Петрович</td>\n",
       "      <td>Жилейкин Виктор Павлович</td>\n",
       "    </tr>\n",
       "  </tbody>\n",
       "</table>\n",
       "<p>5000 rows × 3 columns</p>\n",
       "</div>"
      ],
      "text/plain": [
       "     id события         ФИО участника события 1  \\\n",
       "0           189  Галчевская Карина Владимировна   \n",
       "1           206         Офицеров Олег Романович   \n",
       "2           445     Жандарова Лариса Германовна   \n",
       "3           503          Масимова Яна Дамировна   \n",
       "4           571       Мухтарова Алена Яковлевна   \n",
       "...         ...                             ...   \n",
       "4995     999333      Осташов Владимир Данилович   \n",
       "4996     999360  Гандыбина Любовь Александровна   \n",
       "4997     999403      Востоков Виктор Ильдарович   \n",
       "4998     999405      Огарева Людмила Ильдаровна   \n",
       "4999     999878    Ряполовский Георгий Петрович   \n",
       "\n",
       "              ФИО участника события 2  \n",
       "0     Белоновская Анастасия Семеновна  \n",
       "1           Сапожник Борис Валерьевич  \n",
       "2          Чемодуров Дамир Русланович  \n",
       "3      Мингажетдинов Рамиль Семенович  \n",
       "4         Щербатенко Ольга Робертовна  \n",
       "...                               ...  \n",
       "4995          Чалов Илья Владимирович  \n",
       "4996              Мерлин Илья Юрьевич  \n",
       "4997          Аликас Никита Андреевич  \n",
       "4998       Нагайцева Алина Степановна  \n",
       "4999         Жилейкин Виктор Павлович  \n",
       "\n",
       "[5000 rows x 3 columns]"
      ]
     },
     "execution_count": 7,
     "metadata": {},
     "output_type": "execute_result"
    }
   ],
   "source": [
    "df"
   ]
  },
  {
   "cell_type": "markdown",
   "id": "f40e6145",
   "metadata": {},
   "source": [
    "## 5. Create Graph Database and import file. ##"
   ]
  },
  {
   "cell_type": "code",
   "execution_count": 6,
   "id": "e5329643",
   "metadata": {},
   "outputs": [],
   "source": [
    "df.to_csv('cor_mindset_data_test.csv', index=False) # index = False , save file without index"
   ]
  },
  {
   "cell_type": "markdown",
   "id": "466e4e1f-103d-4f98-87fe-415421cb8b91",
   "metadata": {},
   "source": [
    "## 5.1. Save file with three columns ##"
   ]
  },
  {
   "cell_type": "markdown",
   "id": "bae12699-871d-45bd-afc2-ad42c32cf099",
   "metadata": {},
   "source": [
    "![Screenshot_desktop_noe4j.png](Screenshot_desktop_noe4j.png)"
   ]
  },
  {
   "cell_type": "markdown",
   "id": "d7263b3a",
   "metadata": {},
   "source": [
    "## 5.2 In neo4j browser run Cypher request to see event count per person. ##"
   ]
  },
  {
   "cell_type": "markdown",
   "id": "d37317eb",
   "metadata": {},
   "source": [
    "![Screenshot_Arhomeeva.png](Screenshot_Arhomeeva.png)"
   ]
  },
  {
   "cell_type": "markdown",
   "id": "97dcf457",
   "metadata": {},
   "source": [
    "Alina Ahromeeva is very active in community and have a great interest in the events, maybe a professional in the field related to these events and lookig for opportunities for learning(teaching), expanding her network or establishing business contacts. "
   ]
  },
  {
   "cell_type": "markdown",
   "id": "f53141c8",
   "metadata": {},
   "source": [
    "The next Cypher request is to create graph where \"Ахромеева Алина Ивановна\" is a node and edges are \"id события\" and people who participated to event"
   ]
  },
  {
   "cell_type": "markdown",
   "id": "e63b4d02-399f-4a51-8034-a9aa7d9fbfd3",
   "metadata": {},
   "source": [
    "![Screenshot_Ahromeeva.png](Screenshot_Ahromeeva.png)"
   ]
  },
  {
   "cell_type": "markdown",
   "id": "a9e25311-f75a-4b84-9b46-0a5b41b916b5",
   "metadata": {},
   "source": [
    "## 6. yFiles graphs for Jupyter and Louvain algorithm. ##"
   ]
  },
  {
   "cell_type": "markdown",
   "id": "79191016",
   "metadata": {},
   "source": [
    "## 6.1. Creating a database connection driver. ##"
   ]
  },
  {
   "cell_type": "code",
   "execution_count": 8,
   "id": "226e82d2",
   "metadata": {},
   "outputs": [],
   "source": [
    "uri = \"bolt://localhost:7687\"\n",
    "user = \"neo4j\"\n",
    "password = \"D@T@SCIENCE\"\n",
    "\n",
    "\n",
    "driver = GraphDatabase.driver(uri, auth=(user, password))"
   ]
  },
  {
   "cell_type": "markdown",
   "id": "c0913741-d490-453d-b503-10f28bbbdb43",
   "metadata": {},
   "source": [
    "## 6.2. Execute Cypher query to load data from CSV and create nodes and relationships ##\n",
    "\n",
    "This query loads data from a CSV file with headers, and merges the nodes and relationships into a Neo4j graph database. Specifically, it creates nodes for events and people, and creates a relationship between a person and an event indicating that the person participated in that event. The CSV file has three columns: event id, name of the first participant, and name of the second participant. The replace function is used to remove double quotes from the participant names. Finally, the query matches all the nodes with the PARTICIPATED_IN relationship, and returns the people, events, and relationships."
   ]
  },
  {
   "cell_type": "code",
   "execution_count": 9,
   "id": "17ace8ef-b538-4952-963e-f61539df391f",
   "metadata": {},
   "outputs": [
    {
     "data": {
      "text/plain": [
       "<neo4j.graph.Graph at 0x7f27604bd3d0>"
      ]
     },
     "execution_count": 9,
     "metadata": {},
     "output_type": "execute_result"
    }
   ],
   "source": [
    "with driver.session(database =\"neo4j\") as session:\n",
    "    graph = session.run(\"\"\"\n",
    "        LOAD CSV WITH HEADERS FROM \"file:///cor_mindset_data_test.csv\" AS row\n",
    "        CREATE (e:Event {id: row.`id события`})\n",
    "        CREATE (p1:Person {name: replace(row.`ФИО участника события 1`, '\\\"', '')})\n",
    "        CREATE (p2:Person {name: replace(row.`ФИО участника события 2`, '\\\"', '')})\n",
    "        CREATE (p1)-[:PARTICIPATED_IN {event_type: e.id}]->(e)\n",
    "        CREATE (p2)-[:PARTICIPATED_IN {event_type: e.id}]->(e)\n",
    "        WITH p1, p2, e\n",
    "        MATCH (p:Person)-[r:PARTICIPATED_IN]->(e:Event)\n",
    "        RETURN p, r, e LIMIT 300\n",
    "    \"\"\").graph()\n",
    "    \n",
    "graph"
   ]
  },
  {
   "cell_type": "code",
   "execution_count": 10,
   "id": "4229212f",
   "metadata": {},
   "outputs": [
    {
     "data": {
      "application/vnd.jupyter.widget-view+json": {
       "model_id": "21205d1dd25f41c4891faf44a6f54b1c",
       "version_major": 2,
       "version_minor": 0
      },
      "text/plain": [
       "GraphWidget(layout=Layout(height='500px', width='100%'))"
      ]
     },
     "metadata": {},
     "output_type": "display_data"
    }
   ],
   "source": [
    "GraphWidget(graph = graph) # visualize neo4j graph, works with JupyterLab"
   ]
  },
  {
   "cell_type": "code",
   "execution_count": 9,
   "id": "f0289490",
   "metadata": {},
   "outputs": [
    {
     "data": {
      "text/plain": [
       "<__main__.GraphExample at 0x7fa2fe8c7490>"
      ]
     },
     "metadata": {},
     "output_type": "display_data"
    }
   ],
   "source": [
    "#https://community.neo4j.com/t/neo4j-graph-visualization-in-jupyterlab/24219\n",
    "\n",
    "\n",
    "#class GraphExample:\n",
    "    #def __init__(self, uri, user, password):\n",
    "        #self.driver = GraphDatabase.driver(uri, auth=(user,password))\n",
    "        \n",
    "    #def close(self):\n",
    "        #self.driver.close()\n",
    "        \n",
    "    #def display(self, graph):\n",
    "        #with self.driver.session() as session:\n",
    "            #g = tx.run(\"MATCH (p:Person)-[r:PARTICIPATED_IN]->(e:Event) RETURN p, r, e LIMIT 300\")\n",
    "            #display(g)\n",
    "#if __name__== \"__main__\":\n",
    "    #graph = GraphExample(\"bolt://localhost:7687\",\"neo4j\",\"D@T@SCIENCE\")\n",
    "    #display(graph)\n",
    "    #graph.close()  "
   ]
  },
  {
   "cell_type": "markdown",
   "id": "2a7fd783-72a7-42ba-960b-5dc718ec42ce",
   "metadata": {},
   "source": [
    "## 6.3. Louvain algorithm. ##\n",
    "\n",
    "The Louvain algorithm is a community detection algorithm that is based on modularity optimization. It works by initially assigning each node to its own community and then iteratively merging communities to maximize the modularity score. In each iteration, the algorithm goes through each node and considers moving it to a neighboring community that would increase the modularity score the most. The algorithm continues iterating until no further improvements in modularity can be made, and the resulting communities are output as the final solution. The Louvain algorithm is known for its efficiency and scalability, making it a popular choice for community detection in large graphs."
   ]
  },
  {
   "cell_type": "markdown",
   "id": "cb4a9f36-321e-407e-95e3-591ee242332c",
   "metadata": {},
   "source": [
    "## 6.3.1. Create graph ##"
   ]
  },
  {
   "cell_type": "code",
   "execution_count": 12,
   "id": "6437a3b6-365d-476a-8312-4b74a32b6c96",
   "metadata": {},
   "outputs": [],
   "source": [
    "G = nx.Graph()\n"
   ]
  },
  {
   "cell_type": "markdown",
   "id": "186f337d-e90b-41e1-91ba-9e06e27f8826",
   "metadata": {},
   "source": [
    "## 6.3.2. Load the data from the CSV file ##"
   ]
  },
  {
   "cell_type": "code",
   "execution_count": 13,
   "id": "935a8f3f-a579-450e-b8d5-dbbf96609646",
   "metadata": {},
   "outputs": [],
   "source": [
    "with open(\"cor_mindset_data_test.csv\", \"r\") as f:\n",
    "    next(f) # Пропускает 1 ряд\n",
    "    for line in f:\n",
    "        row = line.strip().split(\",\")\n",
    "        p1 = row[1].replace('\"', '').strip() # ФИО участника сoбития 1\n",
    "        p2 = row[2].replace('\"', '').strip() # ФИО участника собития 2\n",
    "        event_id = row[0].strip() "
   ]
  },
  {
   "cell_type": "markdown",
   "id": "dd9800da-d813-4058-bcbc-908edc1b9752",
   "metadata": {},
   "source": [
    "## 6.3.3. Adding nodes and edges. ##"
   ]
  },
  {
   "cell_type": "code",
   "execution_count": 14,
   "id": "36c6caa6-28bc-4380-ac61-e7ad3c39fccb",
   "metadata": {},
   "outputs": [],
   "source": [
    "G.add_edge(p1, p2, event_type=event_id)"
   ]
  },
  {
   "cell_type": "markdown",
   "id": "49d8d521-2e2c-455d-9726-c85f93383492",
   "metadata": {},
   "source": [
    "## 6.3.4. To apply the Louvain algorithm. ##"
   ]
  },
  {
   "cell_type": "code",
   "execution_count": 15,
   "id": "0cdafd7c-c75a-46bc-a551-ebf5f29ad4ab",
   "metadata": {},
   "outputs": [],
   "source": [
    "partition = greedy_modularity_communities(G)\n",
    "\n"
   ]
  },
  {
   "cell_type": "markdown",
   "id": "0efeb903-56a5-4ec5-95bf-45893f2ccd6b",
   "metadata": {},
   "source": [
    "## 6.3.5. Graph visualization. ##"
   ]
  },
  {
   "cell_type": "code",
   "execution_count": 25,
   "id": "7f0400f5-281d-450d-a86c-516b16333561",
   "metadata": {},
   "outputs": [
    {
     "name": "stderr",
     "output_type": "stream",
     "text": [
      "*c* argument looks like a single numeric RGB or RGBA sequence, which should be avoided as value-mapping will have precedence in case its length matches with *x* & *y*.  Please use the *color* keyword-argument or provide a 2D array with a single row if you intend to specify the same RGB or RGBA value for all points.\n"
     ]
    },
    {
     "data": {
      "image/png": "[encoded data removed]",
      "text/plain": [
       "<Figure size 432x288 with 1 Axes>"
      ]
     },
     "metadata": {},
     "output_type": "display_data"
    }
   ],
   "source": [
    "pos = nx.spring_layout(G, seed=42) # Positioning the nodes of graph\n",
    "color_map = plt.cm.tab20\n",
    "for i, comm_nodes in enumerate(partition):\n",
    "    nx.draw_networkx_nodes(G, pos, nodelist=list(comm_nodes), node_color=color_map(i), alpha=0.5)\n",
    "    # Add the names of the nodes\n",
    "    labels = {}\n",
    "    for node in comm_nodes:\n",
    "        labels[node] = node\n",
    "    nx.draw_networkx_labels(G, pos, labels=labels, font_size=8)\n",
    "nx.draw_networkx_edges(G, pos, width=1, alpha=0.5)\n",
    "plt.axis('off')\n",
    "plt.show()\n"
   ]
  },
  {
   "cell_type": "markdown",
   "id": "2105c9c8-63ff-4cb0-82f4-7c98b733b7f1",
   "metadata": {},
   "source": [
    "This can be interpreted as the fact that these two people have very strong relationships and their connections with the rest of the people in the graph are weaker"
   ]
  },
  {
   "cell_type": "markdown",
   "id": "d02b5af5-219b-42e0-98ac-13c451e7eaec",
   "metadata": {
    "tags": []
   },
   "source": [
    "## 7. Code uses the Cypher query language to match a Person node with the given name and all the events they participated in. It returns the subgraph in GraphML or JSON format, depending on the request. ##"
   ]
  },
  {
   "cell_type": "code",
   "execution_count": null,
   "id": "96672511",
   "metadata": {},
   "outputs": [],
   "source": [
    "# Connect to Neo4j database\n",
    "uri = \"bolt://localhost:7687\"\n",
    "user = \"neo4j\"\n",
    "password = \"password\"\n",
    "driver = GraphDatabase.driver(uri, auth=(user, password))\n",
    "\n",
    "# Define Flask app\n",
    "app = Flask(__name__)\n",
    "\n",
    "# Define Cypher query to get the subgraph for a given name\n",
    "# The subgraph includes the person node and all the events they participated in\n",
    "query = \"\"\"\n",
    "MATCH (p:Person {name: $name})-[r]-(e:Event)\n",
    "RETURN p, r, e\n",
    "\"\"\"\n",
    "\n",
    "# Define route for getting the subgraph for a given name in GraphML format\n",
    "@app.route(\"/graphml/<name>\")\n",
    "def get_graphml(name):\n",
    "    with driver.session() as session:\n",
    "        result = session.run(query, name=name)\n",
    "        graphml = result.graph().to_graphml()\n",
    "    return Response(graphml, mimetype=\"application/xml\")\n",
    "\n",
    "# Define route for getting the subgraph for a given name in JSON format\n",
    "@app.route(\"/json/<name>\")\n",
    "def get_json(name):\n",
    "    with driver.session() as session:\n",
    "        result = session.run(query, name=name)\n",
    "        json_data = []\n",
    "        for record in result:\n",
    "            json_data.append({\"person\": record[\"p\"], \"relationship\": record[\"r\"], \"event\": record[\"e\"]})\n",
    "    return Response(json.dumps(json_data), mimetype=\"application/json\")"
   ]
  },
  {
   "cell_type": "code",
   "execution_count": null,
   "id": "05a68dbf",
   "metadata": {},
   "outputs": [],
   "source": [
    "#@app.route('/graph/<name>', methods=['GET'])\n",
    "#def get_graph(name):\n",
    "    # Находим все связи для данного имени\n",
    "    #query = f\"\"\"\n",
    "    #MATCH (n)-[r]->(m)\n",
    "    #WHERE n.name = '{name}' OR m.name = '{name}'\n",
    "    #RETURN n, r, m\n",
    "    #\"\"\"\n",
    "    #result = graph.run(query).to_data_frame()\n",
    "\n",
    "    # Создаем граф в формате GraphML\n",
    "    #graphml = result.to_graphml()\n",
    "\n",
    "    # Возвращаем граф в формате JSON\n",
    "    #return jsonify(graphml)\n",
    "    #if __name__ == '__main__':\n",
    "    #app.run(debug=True)\n"
   ]
  },
  {
   "cell_type": "code",
   "execution_count": null,
   "id": "bfcc8f8f",
   "metadata": {},
   "outputs": [],
   "source": []
  },
  {
   "cell_type": "code",
   "execution_count": null,
   "id": "5b0e3889",
   "metadata": {},
   "outputs": [],
   "source": []
  }
 ],
 "metadata": {
  "kernelspec": {
   "display_name": "Python 3 (ipykernel)",
   "language": "python",
   "name": "python3"
  },
  "language_info": {
   "codemirror_mode": {
    "name": "ipython",
    "version": 3
   },
   "file_extension": ".py",
   "mimetype": "text/x-python",
   "name": "python",
   "nbconvert_exporter": "python",
   "pygments_lexer": "ipython3",
   "version": "3.9.7"
  }
 },
 "nbformat": 4,
 "nbformat_minor": 5
}
